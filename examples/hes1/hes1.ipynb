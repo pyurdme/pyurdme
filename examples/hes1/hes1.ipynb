{
 "metadata": {
  "name": ""
 },
 "nbformat": 3,
 "nbformat_minor": 0,
 "worksheets": [
  {
   "cells": [
    {
     "cell_type": "heading",
     "level": 1,
     "metadata": {
      "slideshow": {
       "slide_type": "-"
      }
     },
     "source": [
      "Spatial Stochastic Simulation with pyURDME"
     ]
    },
    {
     "cell_type": "heading",
     "level": 2,
     "metadata": {
      "slideshow": {
       "slide_type": "-"
      }
     },
     "source": [
      "Definition of the model"
     ]
    },
    {
     "cell_type": "markdown",
     "metadata": {},
     "source": [
      "Here we illustrate how to implement the model describet in [Sturrock M, Hellander A, Matzavinos A, Chaplain MAJ. 2013 Spatial stochastic modelling of the Hes1 gene regulatory network: intrinsic noise can explain heterogeneity in embryonic stem cell differentiation. J R Soc Interface 10:20120988]"
     ]
    },
    {
     "cell_type": "heading",
     "level": 3,
     "metadata": {},
     "source": [
      "Imports and definitions"
     ]
    },
    {
     "cell_type": "code",
     "collapsed": false,
     "input": [
      "import matplotlib.pyplot as plt \n",
      "import os.path\n",
      "import pyurdme\n",
      "import dolfin\n",
      "import numpy\n",
      "\n",
      "class MeshSize(pyurdme.URDMEDataFunction):\n",
      "    def __init__(self,mesh):\n",
      "        pyurdme.URDMEDataFunction.__init__(self,name=\"MeshSize\")\n",
      "        self.mesh = mesh\n",
      "        self.h = mesh.get_mesh_size()\n",
      "\n",
      "    def map(self,x):\n",
      "        ret = self.h[self.mesh.closest_vertex(x)]\n",
      "        return ret \n"
     ],
     "language": "python",
     "metadata": {
      "slideshow": {
       "slide_type": "-"
      }
     },
     "outputs": [],
     "prompt_number": 6
    },
    {
     "cell_type": "heading",
     "level": 3,
     "metadata": {},
     "source": [
      "Model"
     ]
    },
    {
     "cell_type": "code",
     "collapsed": false,
     "input": [
      "class hes1(pyurdme.URDMEModel):\n",
      "    def __init__(self,model_name=\"hes1\"):\n",
      "        pyurdme.URDMEModel.__init__(self, model_name)\n",
      "\n",
      "        #Species\n",
      "        Pf = pyurdme.Species(name=\"Pf\",diffusion_constant=0.,dimension=3)\n",
      "        Po = pyurdme.Species(name=\"Po\",diffusion_constant=0.,dimension=3)\n",
      "        mRNA = pyurdme.Species(name=\"mRNA\",diffusion_constant=6.e-1,dimension=3)\n",
      "        protein = pyurdme.Species(name=\"protein\",diffusion_constant=6.e-1,dimension=3)\n",
      "        \n",
      "        self.add_species([Pf,Po,mRNA,protein])\n",
      "\n",
      "        #Mesh\n",
      "        #basedir = os.path.dirname(os.path.abspath(__file__))\n",
      "        self.mesh = pyurdme.URDMEMesh.read_mesh(\"mesh/cell.msh\")\n",
      "        ##Alternatives:\n",
      "        ##self.mesh = pyurdme.URDMEMesh.read_geometyr(\"mesh/cell.geo\",3,1)\n",
      "        ##self.mesh = pyurdme.URDMEMesh.read_dolfin_mesh(\"mesh/cell.xml\")\n",
      "        \n",
      "        h = self.mesh.get_mesh_size()\n",
      "        self.add_data_function(MeshSize(self.mesh))\n",
      "     \n",
      "        #Subdomains\n",
      "        #Each subdomain can be specified in the .geo file by defining physical volumes labeled from 1.\n",
      "        volumes = dolfin.MeshFunction(\"size_t\",self.mesh,\"mesh/cell_physical_region.xml\")\n",
      "        self.add_subdomain(volumes)\n",
      "        \n",
      "        nucleus = [1]\n",
      "        cytoplasm = [2]\n",
      "        promoter_site = [1]\n",
      "\n",
      "        #Parameters\n",
      "        k1 = pyurdme.Parameter(name=\"k1\",expression=1.e9)\n",
      "        k2 = pyurdme.Parameter(name=\"k2\",expression=0.1)\n",
      "        alpha_m = pyurdme.Parameter(name=\"alpha_m\",expression=3.)\n",
      "        alpha_m_gamma = pyurdme.Parameter(name=\"alpha_m_gamma\",expression=3./30.)\n",
      "        alpha_p = pyurdme.Parameter(name=\"alpha_p\",expression=1.)\n",
      "        mu_m = pyurdme.Parameter(name=\"mu_m\",expression=0.015)\n",
      "        mu_p = pyurdme.Parameter(name=\"mu_p\",expression=0.043)\n",
      "\n",
      "        self.add_parameter([k1,k2,alpha_m,alpha_m_gamma,alpha_p,mu_m,mu_p])\n",
      "\n",
      "        #Reactions\n",
      "        R1 = pyurdme.Reaction(name=\"R1\",reactants={Pf:1,protein:1},products={Po:1},massaction=True,rate=k1,restrict_to=promoter_site)\n",
      "        R2 = pyurdme.Reaction(name=\"R2\",reactants={Po:1},products={Pf:1,protein:1},massaction=True,rate=k2,restrict_to=promoter_site)\n",
      "        R3 = pyurdme.Reaction(name=\"R3\",reactants={Pf:1},products={Pf:1,mRNA:1},massaction=True,rate=alpha_m,restrict_to=promoter_site)\n",
      "        R4 = pyurdme.Reaction(name=\"R4\",reactants={Po:1},products={Po:1,mRNA:1},massaction=True,rate=alpha_m_gamma,restrict_to=promoter_site)\n",
      "        R5 = pyurdme.Reaction(name=\"R5\",reactants={mRNA:1},products={mRNA:1,protein:1},massaction=True,rate=alpha_p,restrict_to=cytoplasm)\n",
      "        R6 = pyurdme.Reaction(name=\"R6\",reactants={mRNA:1},products={},massaction=True,rate=mu_m)\n",
      "        R7 = pyurdme.Reaction(name=\"R7\",reactants={protein:1},products={},massaction=True,rate=mu_p)\n",
      "        \n",
      "        #Restrictions\n",
      "        self.restrict(Po,promoter_site)\n",
      "        self.restrict(Pf,promoter_site)\n",
      "\n",
      "        #Initial distribution\n",
      "        self.set_initial_condition_place_near({Pf:1},[0,0,0])\n",
      "        self.set_initial_condition_scatter({protein:60},cytoplasm)\n",
      "        self.set_initial_condition_scatter({mRNA:10},nucleus)\n",
      "\n",
      "        #Duration\n",
      "        self.timespan(range(1200))\n"
     ],
     "language": "python",
     "metadata": {},
     "outputs": [],
     "prompt_number": 7
    },
    {
     "cell_type": "heading",
     "level": 2,
     "metadata": {},
     "source": [
      "Running the model and processing the results"
     ]
    },
    {
     "cell_type": "code",
     "collapsed": false,
     "input": [
      "model = hes1(model_name=\"hes1\")\n",
      "result = model.run(report_level=1)\n"
     ],
     "language": "python",
     "metadata": {},
     "outputs": [
      {
       "output_type": "stream",
       "stream": "stderr",
       "text": [
        "DEBUG:UFL:No integrals left after transformation, returning empty form.\n"
       ]
      },
      {
       "output_type": "stream",
       "stream": "stderr",
       "text": [
        "DEBUG:FFC:Reusing form from cache.\n"
       ]
      },
      {
       "output_type": "stream",
       "stream": "stderr",
       "text": [
        "DEBUG:UFL:No integrals left after transformation, returning empty form.\n"
       ]
      },
      {
       "output_type": "stream",
       "stream": "stderr",
       "text": [
        "DEBUG:UFL:No integrals left after transformation, returning empty form.\n"
       ]
      },
      {
       "output_type": "stream",
       "stream": "stderr",
       "text": [
        "DEBUG:FFC:Reusing form from cache.\n"
       ]
      },
      {
       "output_type": "stream",
       "stream": "stderr",
       "text": [
        "DEBUG:UFL:No integrals left after transformation, returning empty form.\n"
       ]
      },
      {
       "output_type": "stream",
       "stream": "stderr",
       "text": [
        "DEBUG:UFL:No integrals left after transformation, returning empty form.\n"
       ]
      },
      {
       "output_type": "stream",
       "stream": "stderr",
       "text": [
        "DEBUG:FFC:Reusing form from cache.\n"
       ]
      },
      {
       "output_type": "stream",
       "stream": "stderr",
       "text": [
        "DEBUG:UFL:No integrals left after transformation, returning empty form.\n"
       ]
      },
      {
       "output_type": "stream",
       "stream": "stderr",
       "text": [
        "DEBUG:UFL:No integrals left after transformation, returning empty form.\n"
       ]
      },
      {
       "output_type": "stream",
       "stream": "stderr",
       "text": [
        "DEBUG:FFC:Reusing form from cache.\n"
       ]
      },
      {
       "output_type": "stream",
       "stream": "stderr",
       "text": [
        "DEBUG:UFL:No integrals left after transformation, returning empty form.\n"
       ]
      },
      {
       "output_type": "stream",
       "stream": "stderr",
       "text": [
        "DEBUG:UFL:No integrals left after transformation, returning empty form.\n"
       ]
      },
      {
       "output_type": "stream",
       "stream": "stderr",
       "text": [
        "DEBUG:FFC:Reusing form from cache.\n"
       ]
      },
      {
       "output_type": "stream",
       "stream": "stderr",
       "text": [
        "DEBUG:UFL:No integrals left after transformation, returning empty form.\n"
       ]
      },
      {
       "output_type": "stream",
       "stream": "stderr",
       "text": [
        "DEBUG:UFL:No integrals left after transformation, returning empty form.\n"
       ]
      },
      {
       "output_type": "stream",
       "stream": "stderr",
       "text": [
        "DEBUG:FFC:Reusing form from cache.\n"
       ]
      },
      {
       "output_type": "stream",
       "stream": "stderr",
       "text": [
        "DEBUG:UFL:No integrals left after transformation, returning empty form.\n"
       ]
      },
      {
       "output_type": "stream",
       "stream": "stderr",
       "text": [
        "DEBUG:UFL:No integrals left after transformation, returning empty form.\n"
       ]
      },
      {
       "output_type": "stream",
       "stream": "stderr",
       "text": [
        "DEBUG:FFC:Reusing form from cache.\n"
       ]
      },
      {
       "output_type": "stream",
       "stream": "stderr",
       "text": [
        "DEBUG:UFL:No integrals left after transformation, returning empty form.\n"
       ]
      },
      {
       "output_type": "stream",
       "stream": "stderr",
       "text": [
        "DEBUG:UFL:No integrals left after transformation, returning empty form.\n"
       ]
      },
      {
       "output_type": "stream",
       "stream": "stderr",
       "text": [
        "DEBUG:FFC:Reusing form from cache.\n"
       ]
      },
      {
       "output_type": "stream",
       "stream": "stderr",
       "text": [
        "DEBUG:UFL:No integrals left after transformation, returning empty form.\n"
       ]
      },
      {
       "output_type": "stream",
       "stream": "stderr",
       "text": [
        "DEBUG:UFL:No integrals left after transformation, returning empty form.\n"
       ]
      },
      {
       "output_type": "stream",
       "stream": "stderr",
       "text": [
        "DEBUG:FFC:Reusing form from cache.\n"
       ]
      },
      {
       "output_type": "stream",
       "stream": "stderr",
       "text": [
        "DEBUG:UFL:No integrals left after transformation, returning empty form.\n"
       ]
      },
      {
       "output_type": "stream",
       "stream": "stderr",
       "text": [
        "DEBUG:UFL:No integrals left after transformation, returning empty form.\n"
       ]
      },
      {
       "output_type": "stream",
       "stream": "stderr",
       "text": [
        "DEBUG:FFC:Reusing form from cache.\n"
       ]
      },
      {
       "output_type": "stream",
       "stream": "stdout",
       "text": [
        "Compiling Solver\n",
        "cmd: ['/tmp/tmpcBOI0Z/.urdme/hes1_pyurdme_generated_model.nsm', '/tmp/tmpZnd0v2', '/tmp/tmph1Q7Jj']\n"
       ]
      },
      {
       "output_type": "stream",
       "stream": "stdout",
       "text": [
        "\n"
       ]
      }
     ],
     "prompt_number": 8
    },
    {
     "cell_type": "heading",
     "level": 3,
     "metadata": {},
     "source": [
      "Plot the evolution of the copy number of a given species"
     ]
    },
    {
     "cell_type": "code",
     "collapsed": false,
     "input": [
      "protein = result.get_species(\"protein\")\n",
      "proteinsum = numpy.sum(protein,axis=1)\n",
      "plt.plot(model.tspan,proteinsum,'r')\n",
      "plt.show()\n"
     ],
     "language": "python",
     "metadata": {},
     "outputs": [],
     "prompt_number": 9
    },
    {
     "cell_type": "heading",
     "level": 3,
     "metadata": {},
     "source": [
      "Save the detailed trajectory into vtk files"
     ]
    },
    {
     "cell_type": "code",
     "collapsed": false,
     "input": [
      "#result.export_to_vtk(species='protein',folder_name='proteinOut')\n"
     ],
     "language": "python",
     "metadata": {},
     "outputs": [],
     "prompt_number": 10
    },
    {
     "cell_type": "code",
     "collapsed": false,
     "input": [],
     "language": "python",
     "metadata": {},
     "outputs": []
    }
   ],
   "metadata": {}
  }
 ]
}